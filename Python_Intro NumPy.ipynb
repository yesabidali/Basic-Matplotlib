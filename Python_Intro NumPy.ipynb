{
 "cells": [
  {
   "cell_type": "code",
   "execution_count": 1,
   "id": "107b9534",
   "metadata": {},
   "outputs": [],
   "source": [
    "import numpy as np"
   ]
  },
  {
   "cell_type": "code",
   "execution_count": 5,
   "id": "99e98301",
   "metadata": {},
   "outputs": [
    {
     "name": "stdout",
     "output_type": "stream",
     "text": [
      "[10 20 30]\n",
      "[40  5 89]\n",
      "[ 50  25 119]\n"
     ]
    }
   ],
   "source": [
    "l1 = [10,20,30]\n",
    "l2 = [40,5,89]\n",
    "a = np.array(l1)\n",
    "b = np.array(l2)\n",
    "print(a)\n",
    "print(b)\n",
    "print(a+b) #we can directly use maths functions in numpy but not in a list"
   ]
  },
  {
   "cell_type": "code",
   "execution_count": 3,
   "id": "acfc840d",
   "metadata": {},
   "outputs": [
    {
     "name": "stdout",
     "output_type": "stream",
     "text": [
      "[[10 20 30 40]\n",
      " [50 60 70 80]]\n"
     ]
    }
   ],
   "source": [
    "import numpy as np\n",
    "arr = np.array([[10,20,30,40],[50,60,70,80]])\n",
    "print(arr)"
   ]
  },
  {
   "cell_type": "code",
   "execution_count": 4,
   "id": "7769f0f6",
   "metadata": {},
   "outputs": [
    {
     "name": "stdout",
     "output_type": "stream",
     "text": [
      "[10 20 30]\n"
     ]
    }
   ],
   "source": [
    "#function of numpy\n",
    "\n",
    "l1 = [10,20,30]\n",
    "l2 = [40,5,89]\n",
    "a = np.array(l1)\n",
    "b = np.array(l2)\n",
    "print(a)"
   ]
  },
  {
   "cell_type": "code",
   "execution_count": 5,
   "id": "585da84b",
   "metadata": {},
   "outputs": [
    {
     "name": "stdout",
     "output_type": "stream",
     "text": [
      "(3,)\n"
     ]
    }
   ],
   "source": [
    "print(a.shape)"
   ]
  },
  {
   "cell_type": "code",
   "execution_count": 7,
   "id": "24ef154e",
   "metadata": {},
   "outputs": [
    {
     "name": "stdout",
     "output_type": "stream",
     "text": [
      "(3,)\n",
      "3\n",
      "3\n",
      "<class 'numpy.ndarray'>\n",
      "int32\n",
      "[['10' '20' '30' '40']\n",
      " ['50' '60' '70' '80']]\n"
     ]
    }
   ],
   "source": [
    "print(a.shape) #shape and dimention of array\n",
    "print(len(a)) #Length of array\n",
    "print(np.size(a)) #size of array\n",
    "print(type(a)) #know data type of variable\n",
    "print(a.dtype) # know data type\n",
    "print(arr.astype(str)) #change type of array"
   ]
  },
  {
   "cell_type": "code",
   "execution_count": 11,
   "id": "0e3a0d09",
   "metadata": {},
   "outputs": [
    {
     "name": "stdout",
     "output_type": "stream",
     "text": [
      "[10 20 30]\n",
      "[40  5 89]\n",
      "\n",
      "[ 50  25 119]\n",
      "[ 50  25 119]\n",
      "[-30  15 -59]\n",
      "[-30  15 -59]\n",
      "[ 400  100 2670]\n",
      "[0.25       4.         0.33707865]\n",
      "[34 17 71]\n"
     ]
    }
   ],
   "source": [
    "#maths opration \n",
    "\n",
    "l1 = [10,20,30]\n",
    "l2 = [40,5,89]\n",
    "a = np.array(l1)\n",
    "b = np.array(l2)\n",
    "print(a)\n",
    "print(b)\n",
    "print( )\n",
    "print(a+b) #add arry\n",
    "\n",
    "print(np.add(a,b))\n",
    "\n",
    "print(a-b) #sub arry\n",
    "\n",
    "print(np.subtract(a,b))\n",
    "\n",
    "print(a*b) #multiply\n",
    "print(a/b)\n",
    "print(a^b)"
   ]
  },
  {
   "cell_type": "code",
   "execution_count": null,
   "id": "9ea4733a",
   "metadata": {},
   "outputs": [],
   "source": [
    "\n",
    "\n"
   ]
  }
 ],
 "metadata": {
  "kernelspec": {
   "display_name": "Python 3 (ipykernel)",
   "language": "python",
   "name": "python3"
  },
  "language_info": {
   "codemirror_mode": {
    "name": "ipython",
    "version": 3
   },
   "file_extension": ".py",
   "mimetype": "text/x-python",
   "name": "python",
   "nbconvert_exporter": "python",
   "pygments_lexer": "ipython3",
   "version": "3.11.3"
  }
 },
 "nbformat": 4,
 "nbformat_minor": 5
}
