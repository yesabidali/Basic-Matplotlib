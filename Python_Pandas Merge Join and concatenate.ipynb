{
 "cells": [
  {
   "cell_type": "code",
   "execution_count": 5,
   "id": "5a6031b6",
   "metadata": {},
   "outputs": [
    {
     "name": "stdout",
     "output_type": "stream",
     "text": [
      "   Emp_id Emp_Name  Age\n",
      "0     123       Mz   23\n",
      "1     456     lisa   34\n",
      "2     789    henry   25\n",
      "3     124      hou   26\n",
      "\n",
      "   Emp_id  Salary\n",
      "0     123    2300\n",
      "1     456   39000\n",
      "2     789   34560\n",
      "3     124     234\n"
     ]
    }
   ],
   "source": [
    "# Creating 2 seprate data frame\n",
    "import pandas as pd\n",
    "data1 = {\"Emp_id\": [123,456,789,124],\n",
    "        \"Emp_Name\": [\"Mz\",\"lisa\",\"henry\",\"hou\"],\n",
    "        \"Age\": [23,34,25,26] }\n",
    "\n",
    "data2 = {\"Emp_id\": [123,456,789,124],\n",
    "        \"Salary\": [2300,39000, 34560,234]}\n",
    "x = pd.DataFrame(data1)\n",
    "y = pd.DataFrame(data2)\n",
    "print(x)\n",
    "\n",
    "print ()\n",
    "\n",
    "print(y)"
   ]
  },
  {
   "cell_type": "code",
   "execution_count": 6,
   "id": "7f32a8b7",
   "metadata": {},
   "outputs": [
    {
     "name": "stdout",
     "output_type": "stream",
     "text": [
      "   Emp_id Emp_Name  Age  Salary\n",
      "0     123       Mz   23    2300\n",
      "1     456     lisa   34   39000\n",
      "2     789    henry   25   34560\n",
      "3     124      hou   26     234\n"
     ]
    }
   ],
   "source": [
    "print(pd.merge(x,y, on = \"Emp_id\")) #Merging dataframe"
   ]
  },
  {
   "cell_type": "code",
   "execution_count": 7,
   "id": "e3e4e391",
   "metadata": {},
   "outputs": [
    {
     "name": "stdout",
     "output_type": "stream",
     "text": [
      "   Emp_id Emp_Name  Age\n",
      "0     123       Mz   23\n",
      "1     456     lisa   34\n",
      "2     789    henry   25\n",
      "3     125      hou   26\n",
      "\n",
      "   Emp_id  Salary\n",
      "0     123    2300\n",
      "1     457   39000\n",
      "2     789   34560\n",
      "3     124     234\n"
     ]
    }
   ],
   "source": [
    "data1 = {\"Emp_id\": [123,456,789,125],\n",
    "        \"Emp_Name\": [\"Mz\",\"lisa\",\"henry\",\"hou\"],\n",
    "        \"Age\": [23,34,25,26] }\n",
    "\n",
    "data2 = {\"Emp_id\": [123,457,789,124],\n",
    "        \"Salary\": [2300,39000, 34560,234]}\n",
    "x = pd.DataFrame(data1)\n",
    "y = pd.DataFrame(data2)\n",
    "print(x)\n",
    "\n",
    "print ()\n",
    "\n",
    "print(y)"
   ]
  },
  {
   "cell_type": "code",
   "execution_count": 8,
   "id": "d43c63f3",
   "metadata": {},
   "outputs": [
    {
     "name": "stdout",
     "output_type": "stream",
     "text": [
      "   Emp_id Emp_Name  Age  Salary\n",
      "0     123       Mz   23    2300\n",
      "1     789    henry   25   34560\n"
     ]
    }
   ],
   "source": [
    "print(pd.merge(x,y, on = \"Emp_id\"))"
   ]
  },
  {
   "cell_type": "code",
   "execution_count": 13,
   "id": "37bc30d0",
   "metadata": {},
   "outputs": [
    {
     "name": "stdout",
     "output_type": "stream",
     "text": [
      "   Emp_id Emp_Name  Age   Salary\n",
      "0     123       Mz   23   2300.0\n",
      "1     456     lisa   34      NaN\n",
      "2     789    henry   25  34560.0\n",
      "3     125      hou   26      NaN\n"
     ]
    }
   ],
   "source": [
    "print(pd.merge(left = x, right = y, on = \"Emp_id\", how = \"left\")) #using concept ofjoint"
   ]
  },
  {
   "cell_type": "code",
   "execution_count": 14,
   "id": "838356ee",
   "metadata": {},
   "outputs": [
    {
     "ename": "AttributeError",
     "evalue": "module 'pandas' has no attribute 'join'",
     "output_type": "error",
     "traceback": [
      "\u001b[1;31m---------------------------------------------------------------------------\u001b[0m",
      "\u001b[1;31mAttributeError\u001b[0m                            Traceback (most recent call last)",
      "Cell \u001b[1;32mIn[14], line 1\u001b[0m\n\u001b[1;32m----> 1\u001b[0m \u001b[38;5;28mprint\u001b[39m(pd\u001b[38;5;241m.\u001b[39mjoin(x,y))\n",
      "File \u001b[1;32m~\\anaconda3\\Lib\\site-packages\\pandas\\__init__.py:264\u001b[0m, in \u001b[0;36m__getattr__\u001b[1;34m(name)\u001b[0m\n\u001b[0;32m    260\u001b[0m     \u001b[38;5;28;01mfrom\u001b[39;00m \u001b[38;5;21;01mpandas\u001b[39;00m\u001b[38;5;21;01m.\u001b[39;00m\u001b[38;5;21;01mcore\u001b[39;00m\u001b[38;5;21;01m.\u001b[39;00m\u001b[38;5;21;01marrays\u001b[39;00m\u001b[38;5;21;01m.\u001b[39;00m\u001b[38;5;21;01msparse\u001b[39;00m \u001b[38;5;28;01mimport\u001b[39;00m SparseArray \u001b[38;5;28;01mas\u001b[39;00m _SparseArray\n\u001b[0;32m    262\u001b[0m     \u001b[38;5;28;01mreturn\u001b[39;00m _SparseArray\n\u001b[1;32m--> 264\u001b[0m \u001b[38;5;28;01mraise\u001b[39;00m \u001b[38;5;167;01mAttributeError\u001b[39;00m(\u001b[38;5;124mf\u001b[39m\u001b[38;5;124m\"\u001b[39m\u001b[38;5;124mmodule \u001b[39m\u001b[38;5;124m'\u001b[39m\u001b[38;5;124mpandas\u001b[39m\u001b[38;5;124m'\u001b[39m\u001b[38;5;124m has no attribute \u001b[39m\u001b[38;5;124m'\u001b[39m\u001b[38;5;132;01m{\u001b[39;00mname\u001b[38;5;132;01m}\u001b[39;00m\u001b[38;5;124m'\u001b[39m\u001b[38;5;124m\"\u001b[39m)\n",
      "\u001b[1;31mAttributeError\u001b[0m: module 'pandas' has no attribute 'join'"
     ]
    }
   ],
   "source": [
    "#print(pd.join(x,y)) # join "
   ]
  },
  {
   "cell_type": "code",
   "execution_count": 15,
   "id": "31e9cd24",
   "metadata": {},
   "outputs": [
    {
     "name": "stdout",
     "output_type": "stream",
     "text": [
      "   Emp_id Emp_Name  Age\n",
      "0       1       Mz   23\n",
      "1       2     lisa   34\n",
      "2       3    henry   25\n",
      "3       4      hou   26\n",
      "\n",
      "   Emp_id Emp_Name  Salary\n",
      "0       5      tex    2300\n",
      "1       6      rex   39000\n",
      "2       7      ron   34560\n",
      "3       8    shaun     234\n"
     ]
    }
   ],
   "source": [
    "data1 = {\"Emp_id\": [1,2,3,4],\n",
    "        \"Emp_Name\": [\"Mz\",\"lisa\",\"henry\",\"hou\"],\n",
    "        \"Age\": [23,34,25,26] }\n",
    "\n",
    "data2 = {\"Emp_id\": [5,6,7,8],\n",
    "         \"Emp_Name\": [\"tex\",\"rex\",\"ron\",\"shaun\"],\n",
    "        \"Salary\": [2300,39000, 34560,234]}\n",
    "x = pd.DataFrame(data1)\n",
    "y = pd.DataFrame(data2)\n",
    "print(x)\n",
    "\n",
    "print ()\n",
    "\n",
    "print(y)"
   ]
  },
  {
   "cell_type": "code",
   "execution_count": 16,
   "id": "0df83874",
   "metadata": {},
   "outputs": [
    {
     "name": "stdout",
     "output_type": "stream",
     "text": [
      "   Emp_id Emp_Name   Age   Salary\n",
      "0       1       Mz  23.0      NaN\n",
      "1       2     lisa  34.0      NaN\n",
      "2       3    henry  25.0      NaN\n",
      "3       4      hou  26.0      NaN\n",
      "0       5      tex   NaN   2300.0\n",
      "1       6      rex   NaN  39000.0\n",
      "2       7      ron   NaN  34560.0\n",
      "3       8    shaun   NaN    234.0\n"
     ]
    }
   ],
   "source": [
    "print(pd.concat([x,y])) # concadinate"
   ]
  },
  {
   "cell_type": "code",
   "execution_count": null,
   "id": "15e109ad",
   "metadata": {},
   "outputs": [],
   "source": []
  }
 ],
 "metadata": {
  "kernelspec": {
   "display_name": "Python 3 (ipykernel)",
   "language": "python",
   "name": "python3"
  },
  "language_info": {
   "codemirror_mode": {
    "name": "ipython",
    "version": 3
   },
   "file_extension": ".py",
   "mimetype": "text/x-python",
   "name": "python",
   "nbconvert_exporter": "python",
   "pygments_lexer": "ipython3",
   "version": "3.11.3"
  }
 },
 "nbformat": 4,
 "nbformat_minor": 5
}
